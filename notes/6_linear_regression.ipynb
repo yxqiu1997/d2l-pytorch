{
 "cells": [
  {
   "cell_type": "code",
   "execution_count": 1,
   "id": "492cf4b4",
   "metadata": {},
   "outputs": [],
   "source": [
    "# 线性回归的简洁实现，通过使用深度学习框架\n",
    "# 根据带有噪声的线性模型构造一个人造数据集。我们使用线性模型参数w=[2,-3.4]^T、b=4.2和噪声项ε生成数据集及其标签\n",
    "# y = Xw + b + ε\n",
    "import numpy as np\n",
    "import torch\n",
    "from torch.utils import data\n",
    "from d2l import torch as d2l\n",
    "\n",
    "true_w = torch.tensor([2, -3.4])\n",
    "true_b = 4.2\n",
    "features, labels = d2l.synthetic_data(true_w, true_b, 1000)"
   ]
  },
  {
   "cell_type": "code",
   "execution_count": 3,
   "id": "99a06f5b",
   "metadata": {},
   "outputs": [
    {
     "data": {
      "text/plain": [
       "[tensor([[-0.8149,  1.6484],\n",
       "         [ 0.2559, -0.5546],\n",
       "         [ 0.1641,  0.9349],\n",
       "         [ 0.1314,  1.9370],\n",
       "         [ 0.3913, -0.7078],\n",
       "         [ 0.5026,  1.7916],\n",
       "         [-1.6277,  0.5862],\n",
       "         [ 0.1402, -0.5680],\n",
       "         [-0.4850,  2.3209],\n",
       "         [-1.3666, -0.6133]]),\n",
       " tensor([[-3.0334],\n",
       "         [ 6.6030],\n",
       "         [ 1.3519],\n",
       "         [-2.1187],\n",
       "         [ 7.3770],\n",
       "         [-0.8837],\n",
       "         [-1.0502],\n",
       "         [ 6.3985],\n",
       "         [-4.6634],\n",
       "         [ 3.5592]])]"
      ]
     },
     "execution_count": 3,
     "metadata": {},
     "output_type": "execute_result"
    }
   ],
   "source": [
    "# 调用框架中现有的api来读取数据\n",
    "def load_array(data_arrays, batch_size, is_train=True):\n",
    "    \"\"\"构造一个PyTorch数据迭代器\"\"\"\n",
    "    dataset = data.TensorDataset(*data_arrays)\n",
    "    return data.DataLoader(dataset, batch_size, shuffle=is_train)\n",
    "\n",
    "batch_size = 10\n",
    "data_iter = load_array((features, labels), batch_size)\n",
    "\n",
    "next(iter(data_iter))"
   ]
  },
  {
   "cell_type": "code",
   "execution_count": 4,
   "id": "0ffdf09b",
   "metadata": {},
   "outputs": [],
   "source": [
    "# 使用框架的预定义好的层\n",
    "from torch import nn\n",
    "\n",
    "net = nn.Sequential(nn.Linear(2, 1))"
   ]
  },
  {
   "cell_type": "code",
   "execution_count": 5,
   "id": "fee07afe",
   "metadata": {},
   "outputs": [
    {
     "data": {
      "text/plain": [
       "tensor([0.])"
      ]
     },
     "execution_count": 5,
     "metadata": {},
     "output_type": "execute_result"
    }
   ],
   "source": [
    "# 初始化模型参数\n",
    "net[0].weight.data.normal_(0, 0.01)\n",
    "net[0].bias.data.fill_(0)"
   ]
  },
  {
   "cell_type": "code",
   "execution_count": 6,
   "id": "fe956707",
   "metadata": {},
   "outputs": [],
   "source": [
    "# 计算均方误差使用的是MSELoss类，也称为平方L2范数\n",
    "loss = nn.MSELoss()"
   ]
  },
  {
   "cell_type": "code",
   "execution_count": 7,
   "id": "30c127c5",
   "metadata": {},
   "outputs": [],
   "source": [
    "# 实例化SGD实例\n",
    "trainer = torch.optim.SGD(net.parameters(), lr = 0.03)"
   ]
  },
  {
   "cell_type": "code",
   "execution_count": 8,
   "id": "08921d7b",
   "metadata": {},
   "outputs": [
    {
     "name": "stdout",
     "output_type": "stream",
     "text": [
      "epoch 1, loss 0.000221\n",
      "epoch 2, loss 0.000095\n",
      "epoch 3, loss 0.000095\n"
     ]
    }
   ],
   "source": [
    "# 训练过程代码\n",
    "num_epochs = 3\n",
    "for epoch in range(num_epochs):\n",
    "    for X, y in data_iter:\n",
    "        l = loss(net(X), y)  # 计算预测值和真实值的loss\n",
    "        trainer.zero_grad()  # 梯度清零\n",
    "        l.backward()\n",
    "        trainer.step()  # 模型更新\n",
    "    l = loss(net(features), labels)\n",
    "    print(f'epoch {epoch + 1}, loss {l:f}')"
   ]
  }
 ],
 "metadata": {
  "kernelspec": {
   "display_name": "Python 3 (ipykernel)",
   "language": "python",
   "name": "python3"
  },
  "language_info": {
   "codemirror_mode": {
    "name": "ipython",
    "version": 3
   },
   "file_extension": ".py",
   "mimetype": "text/x-python",
   "name": "python",
   "nbconvert_exporter": "python",
   "pygments_lexer": "ipython3",
   "version": "3.8.12"
  }
 },
 "nbformat": 4,
 "nbformat_minor": 5
}
